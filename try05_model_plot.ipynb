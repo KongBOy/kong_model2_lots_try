{
 "cells": [
  {
   "cell_type": "code",
   "execution_count": 4,
   "metadata": {},
   "outputs": [
    {
     "name": "stdout",
     "output_type": "stream",
     "text": [
      "Model: \"model_7\"\n",
      "_________________________________________________________________\n",
      "Layer (type)                 Output Shape              Param #   \n",
      "=================================================================\n",
      "input_8 (InputLayer)         [(None, 28, 28, 1)]       0         \n",
      "_________________________________________________________________\n",
      "discriminator_3 (Discriminat (None, 2, 2, 1)           2764481   \n",
      "=================================================================\n",
      "Total params: 2,764,481\n",
      "Trainable params: 2,764,481\n",
      "Non-trainable params: 0\n",
      "_________________________________________________________________\n"
     ]
    },
    {
     "data": {
      "image/png": "[encoded data removed]",
      "text/plain": [
       "<IPython.core.display.Image object>"
      ]
     },
     "execution_count": 4,
     "metadata": {},
     "output_type": "execute_result"
    }
   ],
   "source": [
    "import tensorflow as tf \n",
    "from tensorflow.keras.layers import Input, Conv2D, Flatten\n",
    "from tensorflow.keras.models import Model\n",
    "from matplotlib import pyplot as plt\n",
    "from IPython import display\n",
    "\n",
    "class InstanceNorm_kong(tf.keras.layers.Layer):\n",
    "    def __init__(self):\n",
    "        super(InstanceNorm_kong, self).__init__()\n",
    "\n",
    "    def build(self, input_shape):\n",
    "        depth = input_shape[-1]\n",
    "        self.scale  = self.add_weight(\"scale\", shape = [depth], initializer=tf.random_normal_initializer(mean=1.0, stddev=0.02), dtype=tf.float32)\n",
    "        self.offset = self.add_weight(\"offset\", shape = [depth], initializer=tf.constant_initializer(0.0), dtype=tf.float32 )\n",
    "\n",
    "    def call(self, input):\n",
    "        mean, variance = tf.nn.moments(input, axes=[1,2], keepdims=True)\n",
    "        epsilon = tf.constant(1e-5,dtype=tf.float32)\n",
    "        inv = tf.math.rsqrt(variance + epsilon)\n",
    "        normalized = (input-mean)*inv\n",
    "        \n",
    "        return self.scale*normalized + self.offset\n",
    "        # return tf.matmul(input, self.kernel)\n",
    "\n",
    "\n",
    "class Discriminator(tf.keras.layers.Layer):\n",
    "    def __init__(self,**kwargs):\n",
    "        super(Discriminator, self).__init__(**kwargs)\n",
    "        self.conv_1 = Conv2D(64  ,   kernel_size=4, strides=2, padding=\"same\")\n",
    "        self.conv_2 = Conv2D(64*2,   kernel_size=4, strides=2, padding=\"same\")\n",
    "        self.conv_3 = Conv2D(64*4,   kernel_size=4, strides=2, padding=\"same\")\n",
    "        self.conv_4 = Conv2D(64*8,   kernel_size=4, strides=2, padding=\"same\")\n",
    "        self.conv_map = Conv2D(1   ,   kernel_size=4, strides=1, padding=\"same\")\n",
    "\n",
    "        self.in_c2   = InstanceNorm_kong()\n",
    "        self.in_c3   = InstanceNorm_kong()\n",
    "        self.in_c4   = InstanceNorm_kong()\n",
    "    \n",
    "    def call(self, input_tensor):\n",
    "        x = self.conv_1(input_tensor)\n",
    "        x = tf.nn.leaky_relu(x, alpha=0.2)\n",
    "\n",
    "        x = self.conv_2(x)\n",
    "        x = self.in_c2(x)\n",
    "        x = tf.nn.leaky_relu(x, alpha=0.2)\n",
    "\n",
    "        x = self.conv_3(x)\n",
    "        x = self.in_c3(x)\n",
    "        x = tf.nn.leaky_relu(x, alpha=0.2)\n",
    "\n",
    "        x = self.conv_4(x)\n",
    "        x = self.in_c4(x)\n",
    "        x = tf.nn.leaky_relu(x, alpha=0.2)\n",
    "\n",
    "        return self.conv_map(x)\n",
    "\n",
    "encoder_in = Input(shape = (28,28,1))\n",
    "x = Conv2D(3, kernel_size=3, strides=1, padding=\"same\")(encoder_in)\n",
    "encoder = Model(encoder_in, x)\n",
    "# encoder.summary()\n",
    "\n",
    "d_in = Input(shape = (28,28,1))\n",
    "d = Discriminator()(d_in)\n",
    "discriminator = Model(d_in,d)\n",
    "discriminator.summary()\n",
    "tf.keras.utils.plot_model(discriminator,show_shapes = True)"
   ]
  }
 ],
 "metadata": {
  "kernelspec": {
   "display_name": "Python 3",
   "language": "python",
   "name": "python3"
  },
  "language_info": {
   "codemirror_mode": {
    "name": "ipython",
    "version": 3
   },
   "file_extension": ".py",
   "mimetype": "text/x-python",
   "name": "python",
   "nbconvert_exporter": "python",
   "pygments_lexer": "ipython3",
   "version": "3.7.4"
  }
 },
 "nbformat": 4,
 "nbformat_minor": 4
}
