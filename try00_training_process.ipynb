{
 "cells": [
  {
   "cell_type": "code",
   "execution_count": 6,
   "metadata": {},
   "outputs": [],
   "source": [
    "from glob import glob\n",
    "import numpy as np \n",
    "from imageio import imread\n",
    "import scipy.misc\n",
    "import time\n",
    "\n",
    "from module_kong import build_CycleGAN\n",
    "\n",
    "import tensorflow as tf\n",
    "import numpy as np"
   ]
  },
  {
   "cell_type": "markdown",
   "metadata": {},
   "source": [
    "# 假資料"
   ]
  },
  {
   "cell_type": "code",
   "execution_count": 2,
   "metadata": {},
   "outputs": [],
   "source": [
    "real_a = np.ones( shape=(1,256,256,3), dtype = np.float32 )\n",
    "real_b = np.ones( shape=(1,256,256,3), dtype = np.float32 )"
   ]
  },
  {
   "cell_type": "markdown",
   "metadata": {},
   "source": [
    "# 建立模型"
   ]
  },
  {
   "cell_type": "code",
   "execution_count": 7,
   "metadata": {},
   "outputs": [],
   "source": [
    "discriminator_a, discriminator_b, generator_a2b, generator_b2a, GAN_b2a, GAN_a2b = build_CycleGAN()"
   ]
  },
  {
   "cell_type": "markdown",
   "metadata": {},
   "source": [
    "# 測 sample_test_data"
   ]
  },
  {
   "cell_type": "code",
   "execution_count": 32,
   "metadata": {},
   "outputs": [],
   "source": [
    "def sample_test_data(src_path, dst_path, generator_a2b,counter = 0):\n",
    "    test_img = imread(src_path)\n",
    "    test_img = test_img/127.5 - 1.\n",
    "    test_img = test_img.reshape( 1, test_img.shape[0], test_img.shape[1], test_img.shape[2] )\n",
    "    test_img = test_img.astype(np.float32)\n",
    "    print(test_img.dtype)\n",
    "    result = generator_a2b(test_img)\n",
    "    result = result.numpy()\n",
    "    result = result.reshape(result.shape[1],result.shape[2],result.shape[3])\n",
    "    result = (result+1.) /2.\n",
    "    scipy.misc.imsave(\"%s-%04i.jpg\"%(dst_path,counter), result)"
   ]
  },
  {
   "cell_type": "code",
   "execution_count": 33,
   "metadata": {},
   "outputs": [
    {
     "name": "stdout",
     "output_type": "stream",
     "text": [
      "float32\n"
     ]
    },
    {
     "name": "stderr",
     "output_type": "stream",
     "text": [
      "C:\\Users\\Kong_HP820G1\\Anaconda3\\lib\\site-packages\\ipykernel_launcher.py:11: DeprecationWarning: `imsave` is deprecated!\n",
      "`imsave` is deprecated in SciPy 1.0.0, and will be removed in 1.2.0.\n",
      "Use ``imageio.imwrite`` instead.\n",
      "  # This is added back by InteractiveShellApp.init_path()\n"
     ]
    }
   ],
   "source": [
    "src_path = \"datasets/horse2zebra/testA/n02381460_120.jpg\"\n",
    "dst_path = \"result/A-n02381460_120_to_B-zibra\"\n",
    "sample_test_data(src_path, dst_path,generator_a2b)"
   ]
  },
  {
   "cell_type": "markdown",
   "metadata": {},
   "source": [
    "# 測Discriminator"
   ]
  },
  {
   "cell_type": "code",
   "execution_count": 4,
   "metadata": {},
   "outputs": [
    {
     "name": "stdout",
     "output_type": "stream",
     "text": [
      "0.489331\n",
      "0.92751896\n"
     ]
    }
   ],
   "source": [
    "fake_b = generator_a2b(real_a) ### 丟進去要的形式要是 BHWC\n",
    "fake_b_score = discriminator_b(fake_b)\n",
    "real_b_score = discriminator_b(real_b)\n",
    "print(np.abs(  fake_b_score - np.array( [ [[ [0.0] ]*16]*16  ],dtype=np.float32)  ).mean())\n",
    "print(np.abs(  real_b_score - np.array( [ [[ [1.0] ]*16]*16  ],dtype=np.float32)  ).mean())"
   ]
  },
  {
   "cell_type": "code",
   "execution_count": 5,
   "metadata": {},
   "outputs": [],
   "source": [
    "fake_b_concat_real_b = tf.concat([fake_b, real_b]  ,axis=0)"
   ]
  },
  {
   "cell_type": "code",
   "execution_count": 6,
   "metadata": {},
   "outputs": [
    {
     "data": {
      "text/plain": [
       "0.7084249"
      ]
     },
     "execution_count": 6,
     "metadata": {},
     "output_type": "execute_result"
    }
   ],
   "source": [
    "y_d = tf.constant(   [ [[ [0.0] ]*16]*16  ]*1 + [ [[ [1.0] ]*16]*16  ]*1 )\n",
    "discriminator_b.train_on_batch( fake_b_concat_real_b, y_d) ###0.8318184"
   ]
  },
  {
   "cell_type": "code",
   "execution_count": 7,
   "metadata": {},
   "outputs": [
    {
     "name": "stdout",
     "output_type": "stream",
     "text": [
      "0.7084249\n",
      "0.489331\n",
      "0.9275187\n",
      "1.4168497\n",
      "0.7084248661994934\n"
     ]
    }
   ],
   "source": [
    "print(discriminator_b.train_on_batch( fake_b_concat_real_b, y_d) )\n",
    "print(discriminator_b.train_on_batch( fake_b_concat_real_b[0:1,:,:,:], y_d[0:1,:,:,:]))\n",
    "print(discriminator_b.train_on_batch( fake_b_concat_real_b[1:2,:,:,:], y_d[1:2,:,:,:]))\n",
    "print(discriminator_b.train_on_batch( fake_b_concat_real_b[0:1,:,:,:], y_d[0:1,:,:,:])+ discriminator_b.train_on_batch( fake_b_concat_real_b[1:2,:,:,:], y_d[1:2,:,:,:]))\n",
    "print( (discriminator_b.train_on_batch( fake_b_concat_real_b[0:1,:,:,:], y_d[0:1,:,:,:])+ discriminator_b.train_on_batch( fake_b_concat_real_b[1:2,:,:,:], y_d[1:2,:,:,:]))/2 )"
   ]
  },
  {
   "cell_type": "markdown",
   "metadata": {},
   "source": [
    "# 測Generator"
   ]
  },
  {
   "cell_type": "code",
   "execution_count": 8,
   "metadata": {},
   "outputs": [
    {
     "name": "stdout",
     "output_type": "stream",
     "text": [
      "0.8765603\n",
      "1.2072147\n"
     ]
    }
   ],
   "source": [
    "y_g = tf.constant(  [ [ [ [1.0] ]*16 ]*16 ]*1  )\n",
    "fake_b_cyc_a = generator_b2a(fake_b) ### 丟進去要的形式要是 BHWC\n",
    "fake_b_score = discriminator_b(fake_b)\n",
    "print(np.abs( real_a- fake_b_cyc_a ).mean())\n",
    "print(np.abs( fake_b_score - np.array( [ [[ [1.0] ]*16]*16 ] ,dtype=np.float32)  ).mean())"
   ]
  },
  {
   "cell_type": "code",
   "execution_count": 9,
   "metadata": {},
   "outputs": [
    {
     "name": "stdout",
     "output_type": "stream",
     "text": [
      "[10.008319, 0.8788373, 1.219946]\n",
      "['loss', 'G_B2A_loss', 'D_B_loss']\n"
     ]
    }
   ],
   "source": [
    "print(GAN_a2b.train_on_batch( real_a, [real_a, y_g] ))\n",
    "print(GAN_a2b.metrics_names) ### 可以看 現在用的metrics是什麼 [10.672525, 0.9509157, 1.163368]"
   ]
  },
  {
   "cell_type": "code",
   "execution_count": 10,
   "metadata": {},
   "outputs": [
    {
     "name": "stdout",
     "output_type": "stream",
     "text": [
      "Model: \"GAN_A2B\"\n",
      "__________________________________________________________________________________________________\n",
      "Layer (type)                    Output Shape         Param #     Connected to                     \n",
      "==================================================================================================\n",
      "G_A_IN (InputLayer)             [(None, None, None,  0                                            \n",
      "__________________________________________________________________________________________________\n",
      "G_A2B (Model)                   (None, None, None, 3 11379971    G_A_IN[0][0]                     \n",
      "__________________________________________________________________________________________________\n",
      "G_B2A (Model)                   (None, None, None, 3 11379971    G_A2B[1][0]                      \n",
      "__________________________________________________________________________________________________\n",
      "D_B (Model)                     (None, None, None, 1 2764737     G_A2B[1][0]                      \n",
      "==================================================================================================\n",
      "Total params: 25,524,679\n",
      "Trainable params: 22,758,150\n",
      "Non-trainable params: 2,766,529\n",
      "__________________________________________________________________________________________________\n"
     ]
    }
   ],
   "source": [
    "GAN_a2b.summary()"
   ]
  },
  {
   "cell_type": "code",
   "execution_count": 11,
   "metadata": {},
   "outputs": [
    {
     "name": "stdout",
     "output_type": "stream",
     "text": [
      "Model: \"GAN_B2A\"\n",
      "__________________________________________________________________________________________________\n",
      "Layer (type)                    Output Shape         Param #     Connected to                     \n",
      "==================================================================================================\n",
      "G_B_IN (InputLayer)             [(None, None, None,  0                                            \n",
      "__________________________________________________________________________________________________\n",
      "G_B2A (Model)                   (None, None, None, 3 11379971    G_B_IN[0][0]                     \n",
      "__________________________________________________________________________________________________\n",
      "G_A2B (Model)                   (None, None, None, 3 11379971    G_B2A[2][0]                      \n",
      "__________________________________________________________________________________________________\n",
      "D_A (Model)                     (None, None, None, 1 2764737     G_B2A[2][0]                      \n",
      "==================================================================================================\n",
      "Total params: 25,524,679\n",
      "Trainable params: 22,758,150\n",
      "Non-trainable params: 2,766,529\n",
      "__________________________________________________________________________________________________\n"
     ]
    }
   ],
   "source": [
    "GAN_b2a.summary()"
   ]
  }
 ],
 "metadata": {
  "kernelspec": {
   "display_name": "Python 3",
   "language": "python",
   "name": "python3"
  },
  "language_info": {
   "codemirror_mode": {
    "name": "ipython",
    "version": 3
   },
   "file_extension": ".py",
   "mimetype": "text/x-python",
   "name": "python",
   "nbconvert_exporter": "python",
   "pygments_lexer": "ipython3",
   "version": "3.7.4"
  }
 },
 "nbformat": 4,
 "nbformat_minor": 2
}
